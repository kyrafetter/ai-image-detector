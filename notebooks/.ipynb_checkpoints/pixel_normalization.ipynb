{
 "cells": [
  {
   "cell_type": "code",
   "execution_count": 1,
   "id": "0e8397b5",
   "metadata": {},
   "outputs": [],
   "source": [
    "import matplotlib.pyplot as plt\n",
    "from PIL import Image\n",
    "import os\n",
    "import sys"
   ]
  },
  {
   "cell_type": "code",
   "execution_count": 2,
   "id": "fbfb7435",
   "metadata": {},
   "outputs": [],
   "source": [
    "# Specify location of images and types of file extensions\n",
    "# dir should be the directory containing \"real\" and \"fake\" directories of images\n",
    "dir = \"../../data/images\"\n",
    "file_exts = [\".jpg\", \".png\"]\n",
    "\n",
    "# Confirm validity of given directory\n",
    "if(not (os.path.exists(dir))):\n",
    "    print(\"Error, specified directory does not exist\")\n",
    "    sys.exit(1)"
   ]
  },
  {
   "cell_type": "code",
   "execution_count": 3,
   "id": "b97039ca",
   "metadata": {},
   "outputs": [],
   "source": [
    "# empty list for pixel values\n",
    "pixel_values = []"
   ]
  },
  {
   "cell_type": "code",
   "execution_count": null,
   "id": "13c15bd0",
   "metadata": {},
   "outputs": [
    {
     "name": "stdout",
     "output_type": "stream",
     "text": [
      "../../data/images\\real\\0001.jpg\n",
      "4000 2250\n"
     ]
    }
   ],
   "source": [
    "# Open all real images and store sizes\n",
    "#Iterate through files in directory\n",
    "for file in os.listdir(os.path.join(dir, \"real\")):\n",
    "    filename = os.fsdecode(file)\n",
    "\n",
    "    # Confirm file is an image\n",
    "    for ext in file_exts:\n",
    "        if(filename.endswith(ext)):\n",
    "            img_path = os.path.join(dir, \"real\", filename)\n",
    "            print(img_path)\n",
    "            with Image.open(img_path) as img:\n",
    "                img_pixels = []\n",
    "                width, height = img.size\n",
    "                print(width, height)\n",
    "                print(list(img.getdata()))\n",
    "                # for i in range(0, width):\n",
    "                #     for j in range(0, height):\n",
    "                #         # get pixel color\n",
    "                #         color = img.getpixel((i, j))\n",
    "                #         img_pixels.append(color)\n",
    "                pixel_values.append(img_pixels)"
   ]
  },
  {
   "cell_type": "code",
   "execution_count": null,
   "id": "4490325a",
   "metadata": {},
   "outputs": [],
   "source": []
  }
 ],
 "metadata": {
  "kernelspec": {
   "display_name": "Python 3",
   "language": "python",
   "name": "python3"
  },
  "language_info": {
   "codemirror_mode": {
    "name": "ipython",
    "version": 3
   },
   "file_extension": ".py",
   "mimetype": "text/x-python",
   "name": "python",
   "nbconvert_exporter": "python",
   "pygments_lexer": "ipython3",
   "version": "3.9.6"
  }
 },
 "nbformat": 4,
 "nbformat_minor": 5
}
